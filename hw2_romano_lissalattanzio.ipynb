{
  "cells": [
    {
      "cell_type": "markdown",
      "metadata": {
        "id": "JU-vxcdtGjx7"
      },
      "source": [
        "# Clone the repository and import functions and classes"
      ]
    },
    {
      "cell_type": "code",
      "execution_count": null,
      "metadata": {
        "id": "jYogysnE--RO"
      },
      "outputs": [],
      "source": [
        "import shutil\n",
        "shutil.rmtree('archaicIT2modernIT', ignore_errors=True)\n",
        "\n",
        "!git clone \"https://github.com/cybernetic-m/archaicIT2modernIT.git\"\n",
        "!pip install ipywidgets -q # needed for a slider to choose k (number of few-shot examples)\n",
        "!pip install -U transformers -q\n",
        "!pip install datasets -q\n",
        "\n",
        "import pandas as pd\n",
        "import shutil\n",
        "from google.colab import files\n",
        "import requests\n",
        "import time\n",
        "from typing import Optional\n",
        "import yaml\n",
        "import getpass\n",
        "from IPython.display import display\n",
        "import ipywidgets as widgets\n",
        "\n",
        "# import to avoid useless warnings\n",
        "import warnings\n",
        "from transformers import logging\n",
        "\n",
        "import torch\n",
        "from datasets import Dataset\n",
        "from transformers import AutoTokenizer, AutoModelForSeq2SeqLM, AutoModelForCausalLM, TrainingArguments, Trainer\n",
        "\n",
        "from sklearn.metrics import cohen_kappa_score\n",
        "\n",
        "# Import of our functions\n",
        "from archaicIT2modernIT.prompt.PromptBuilder import PromptBuilder\n",
        "from archaicIT2modernIT.utils.config import load_config\n",
        "from archaicIT2modernIT.utils.translate import LLM_translation, Transformer_translation, preprocess\n",
        "from archaicIT2modernIT.utils.evaluation_prometheus import tournament, make_evaluation\n",
        "from archaicIT2modernIT.utils.cohen_kappa import PrepareData4CohenKappa, CohenKappaComputation\n",
        "\n",
        "\n",
        "# Suppress the specific warning from Hugging Face transformers\n",
        "logging.set_verbosity_error()\n",
        "\n",
        "# Optional: suppress general Python warnings too\n",
        "warnings.filterwarnings(\"ignore\")\n",
        "\n",
        "if torch.cuda.is_available():\n",
        "    device = \"cuda\"\n",
        "    print(\"CUDA is available\")\n",
        "else:\n",
        "    device = \"cpu\"\n",
        "    print(\"CUDA is not available: I suggest you to change runtime type\\nbecause the finetuning of the transformers and LLM-as-a-Judge evaluation\\nstage need GPUs\")"
      ]
    },
    {
      "cell_type": "markdown",
      "metadata": {
        "id": "2yUEgvkaunyU"
      },
      "source": [
        "# LLM-based Approach"
      ]
    },
    {
      "cell_type": "markdown",
      "source": [
        "## Initialization"
      ],
      "metadata": {
        "id": "Tm79_ZPPymZ5"
      }
    },
    {
      "cell_type": "markdown",
      "metadata": {
        "id": "MC4NoJStcBsr"
      },
      "source": [
        "**Groq API Key**\n",
        "\n",
        "To run the translation using LLMs, you need to have a Groq API key.\n",
        "\n",
        "1. Go to https://console.groq.com/keys\n",
        "2. Login\n",
        "3. Click on \"create api key\" in the top right corner\n",
        "![groq-api.png](data:image/png;base64,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)"
      ]
    },
    {
      "cell_type": "markdown",
      "source": [
        "**Insert here your api key:**"
      ],
      "metadata": {
        "id": "huiPTpwlwtp_"
      }
    },
    {
      "cell_type": "code",
      "execution_count": null,
      "metadata": {
        "id": "EwlunR60cBLE"
      },
      "outputs": [],
      "source": [
        "api_key = getpass.getpass(\"🔑 Enter your Groq API key: \")"
      ]
    },
    {
      "cell_type": "markdown",
      "metadata": {
        "id": "GSq3tdQHZZF9"
      },
      "source": [
        "**Load config yaml file**"
      ]
    },
    {
      "cell_type": "code",
      "execution_count": null,
      "metadata": {
        "id": "rQT44YTjLyO-"
      },
      "outputs": [],
      "source": [
        "# Load the configuration file \"config.yaml\" on the repo\n",
        "config = load_config(\"archaicIT2modernIT/config.yaml\")\n",
        "\n",
        "# Load of all the parameters (model names and temperature)\n",
        "deepseek = config[\"model\"][\"deepseek\"]\n",
        "gemma = config[\"model\"][\"gemma\"]\n",
        "llama = config[\"model\"][\"llama\"]\n",
        "model_temperature = config[\"model\"][\"temperature\"]\n",
        "\n",
        "# Load italian system and user prompts (as tuples (system_prompt, user_prompt))\n",
        "prompt_it = (config['prompt']['system_template_it'], config['prompt']['user_template_it'])\n",
        "\n",
        "# Load english system and user prompts\n",
        "prompt_en = (config['prompt']['system_template_en'],config['prompt']['user_template_en'])\n",
        "\n",
        "# Load the requests per minute param\n",
        "req_per_min = config[\"rate_limit\"][\"req_per_min\"]\n",
        "\n",
        "print(f\"Model names: {deepseek}, {gemma}, {llama}\\n\")\n",
        "print(f\"System Prompt IT:\\n{prompt_it[0]}\")\n",
        "print(f\"User Prompt IT:\\n{prompt_it[1]}\")\n",
        "print(f\"System Prompt EN:\\n{prompt_en[0]}\")\n",
        "print(f\"User Prompt EN:\\n{prompt_en[1]}\")\n",
        "print(f\"Model temperature: {model_temperature}\\n\")\n",
        "print(f\"Requests per minute: {req_per_min}\\n\")"
      ]
    },
    {
      "cell_type": "markdown",
      "metadata": {
        "id": "Q7qF-LUYgVPA"
      },
      "source": [
        "**Load Examples**\n",
        "\n",
        "These examples are the ones used for the **few-shot learning** from 1-shot to the 5-shot."
      ]
    },
    {
      "cell_type": "code",
      "execution_count": null,
      "metadata": {
        "id": "RMsYjOtegYeT"
      },
      "outputs": [],
      "source": [
        "examples_csv = pd.read_csv(\"archaicIT2modernIT/data/examples.csv\")\n",
        "examples = [(archaic, modern) for archaic, modern in zip(examples_csv[\"Sentence\"], examples_csv[\"Manual Translation\"])]\n",
        "examples_csv.head()"
      ]
    },
    {
      "cell_type": "markdown",
      "source": [
        "## Zero-shot translations"
      ],
      "metadata": {
        "id": "rPUmFUt8yqxh"
      }
    },
    {
      "cell_type": "markdown",
      "metadata": {
        "id": "m19LOTWSZdPS"
      },
      "source": [
        "**Zero-Shot Prompt Builder**"
      ]
    },
    {
      "cell_type": "code",
      "execution_count": null,
      "metadata": {
        "id": "bhczFRwNZere"
      },
      "outputs": [],
      "source": [
        "# Create a Zero Shot Prompt Builder for both italian and english prompt\n",
        "\n",
        "prompt_builder_it_zeroshot = PromptBuilder(prompt_template = prompt_it,\n",
        "                                  mode = \"zero-shot\",\n",
        "                                  lang = 'it'\n",
        "                                  )\n",
        "\n",
        "prompt_builder_en_zeroshot = PromptBuilder(prompt_template = prompt_en,\n",
        "                                  mode = \"zero-shot\",\n",
        "                                  lang = 'en'\n",
        "                                  )"
      ]
    },
    {
      "cell_type": "markdown",
      "metadata": {
        "id": "tXQ-rbk84YUb"
      },
      "source": [
        "**LLMs translation**\n",
        "\n",
        "In this section we use the prompt builder to translate the dataset in the case of \"zero-shot\" with all the LLMs."
      ]
    },
    {
      "cell_type": "code",
      "execution_count": null,
      "metadata": {
        "id": "-PWUct70wokU"
      },
      "outputs": [],
      "source": [
        "# Create a list of models with the temperatures\n",
        "list_of_models = [deepseek ]#gemma, deepseek]\n",
        "list_of_temperatures = [model_temperature for _ in range(len(list_of_models))]\n",
        "\n",
        "for model, temperature in zip(list_of_models, list_of_temperatures):\n",
        "\n",
        "    print(f\"Model: {model}, Temperature: {temperature}\")\n",
        "\n",
        "    LLM_translation(\n",
        "        api_key = api_key,\n",
        "        input_file = \"archaicIT2modernIT/data/dataset.csv\",\n",
        "        model_name = model,\n",
        "        prompt_builder = prompt_builder_it_zeroshot,\n",
        "        temperature = temperature,\n",
        "        req_per_min = req_per_min,\n",
        "        save_path = \"archaicIT2modernIT/translations\"\n",
        ")\n",
        "\n",
        "for model, temperature in zip(list_of_models, list_of_temperatures):\n",
        "\n",
        "    print(f\"Model: {model}, Temperature: {temperature}\")\n",
        "\n",
        "    LLM_translation(\n",
        "        api_key = api_key,\n",
        "        input_file = \"archaicIT2modernIT/data/dataset.csv\",\n",
        "        model_name = model,\n",
        "        prompt_builder = prompt_builder_en_zeroshot,\n",
        "        temperature = temperature,\n",
        "        req_per_min = req_per_min,\n",
        "        save_path = \"archaicIT2modernIT/translations\"\n",
        ")"
      ]
    },
    {
      "cell_type": "markdown",
      "source": [
        "## Few-shot translations"
      ],
      "metadata": {
        "id": "Meu-sJmIyvp-"
      }
    },
    {
      "cell_type": "markdown",
      "metadata": {
        "id": "j5pWQQ9mTRyt"
      },
      "source": [
        "**Choose K through slider**\n",
        "\n",
        "K is the number of sentence-translation pairs to give for the in-context learning"
      ]
    },
    {
      "cell_type": "code",
      "execution_count": null,
      "metadata": {
        "id": "GcOus-IfTV-h"
      },
      "outputs": [],
      "source": [
        "k_slider = widgets.IntSlider(\n",
        "    value=1,           # default value\n",
        "    min=1,\n",
        "    max=5,\n",
        "    step=1,\n",
        "    description='K:',\n",
        "    continuous_update=False\n",
        ")\n",
        "display(k_slider)\n"
      ]
    },
    {
      "cell_type": "markdown",
      "metadata": {
        "id": "awHQFuglSR7W"
      },
      "source": [
        "**Few-Shot Prompt Builder**"
      ]
    },
    {
      "cell_type": "code",
      "execution_count": null,
      "metadata": {
        "id": "LcqzfARGxPI2"
      },
      "outputs": [],
      "source": [
        "print(f\"You are using K={k_slider.value} examples in few-shot learning\")\n",
        "\n",
        "prompt_builder_it_fewshot = PromptBuilder(prompt_template = prompt_it,\n",
        "                                  mode = \"few-shot\",\n",
        "                                  k = k_slider.value,\n",
        "                                  examples = examples,\n",
        "                                  lang = 'it'\n",
        "                                  )\n",
        "prompt_builder_en_fewshot = PromptBuilder(prompt_template = prompt_en,\n",
        "                                  mode = \"few-shot\",\n",
        "                                  k = k_slider.value,\n",
        "                                  examples = examples,\n",
        "                                  lang = 'en'\n",
        "                                  )"
      ]
    },
    {
      "cell_type": "markdown",
      "source": [
        "**LLMs translation**\n",
        "\n",
        "In this section we use the prompt builder to translate the dataset in the case of \"k-shot\" with all the LLMs."
      ],
      "metadata": {
        "id": "lc71e6QEzIYA"
      }
    },
    {
      "cell_type": "code",
      "execution_count": null,
      "metadata": {
        "id": "hboUXFHQjt9a"
      },
      "outputs": [],
      "source": [
        "# Create a list of models with the temperatures\n",
        "list_of_models = [gemma, deepseek]\n",
        "list_of_temperatures = [model_temperature for _ in range(len(list_of_models))]\n",
        "\n",
        "for model, temperature in zip(list_of_models, list_of_temperatures):\n",
        "\n",
        "    print(f\"Model: {model}, Temperature: {temperature}\")\n",
        "\n",
        "    LLM_translation(\n",
        "        api_key = api_key,\n",
        "        input_file = \"archaicIT2modernIT/data/dataset.csv\",\n",
        "        model_name = model,\n",
        "        prompt_builder = prompt_builder_it_fewshot,\n",
        "        temperature = temperature,\n",
        "        req_per_min = req_per_min,\n",
        "        save_path = \"archaicIT2modernIT/translations\"\n",
        ")\n",
        "\n",
        "for model, temperature in zip(list_of_models, list_of_temperatures):\n",
        "\n",
        "    print(f\"Model: {model}, Temperature: {temperature}\")\n",
        "\n",
        "    LLM_translation(\n",
        "        api_key = api_key,\n",
        "        input_file = \"archaicIT2modernIT/data/dataset.csv\",\n",
        "        model_name = model,\n",
        "        prompt_builder = prompt_builder_en_fewshot,\n",
        "        temperature = temperature,\n",
        "        req_per_min = req_per_min,\n",
        "        save_path = \"archaicIT2modernIT/translations\"\n",
        ")"
      ]
    },
    {
      "cell_type": "markdown",
      "source": [
        "# Transformer-based Approach"
      ],
      "metadata": {
        "id": "fQWNV32Q84u5"
      }
    },
    {
      "cell_type": "markdown",
      "source": [
        "## Initializations"
      ],
      "metadata": {
        "id": "xL5qQpA41dJP"
      }
    },
    {
      "cell_type": "markdown",
      "source": [
        "**Load the dataset from Huggingface**\n",
        "\n",
        "This dataset is needed for fine tuning purpose of the transformer based approach."
      ],
      "metadata": {
        "id": "SHnvSrtStkwI"
      }
    },
    {
      "cell_type": "code",
      "source": [
        "# Download and load CSV using pandas\n",
        "url = \"https://huggingface.co/datasets/cybernetic-m/oldIT2modIT/resolve/main/oldIT2modIT_dataset.csv\"\n",
        "old2modern_df = pd.read_csv(url)\n",
        "# Rename the columns\n",
        "old2modern_df = old2modern_df.rename(columns={'Old': 'src', 'Modern': 'tgt'})\n",
        "# Convert to Hugging Face Dataset\n",
        "old2modern_dataset = Dataset.from_pandas(old2modern_df)"
      ],
      "metadata": {
        "id": "WXocKFHjtkfa"
      },
      "execution_count": null,
      "outputs": []
    },
    {
      "cell_type": "markdown",
      "source": [
        "**Definition of the Non Fine-Tuned Transformer**"
      ],
      "metadata": {
        "id": "RiA85FvQws4h"
      }
    },
    {
      "cell_type": "code",
      "source": [
        "model = \"facebook/nllb-200-distilled-600M\"\n",
        "model_name = \"nllb-200-distilled-600M\"\n",
        "save_path = \"/content/archaicIT2modernIT/translations\"\n",
        "input_file = \"/content/archaicIT2modernIT/data/dataset.csv\"\n",
        "\n",
        "nonfinetuned_tokenizer = AutoTokenizer.from_pretrained(model)\n",
        "nonfinetuned_model = AutoModelForSeq2SeqLM.from_pretrained(model)"
      ],
      "metadata": {
        "id": "_y2WCE7IwsVU"
      },
      "execution_count": null,
      "outputs": []
    },
    {
      "cell_type": "markdown",
      "source": [
        "## Translation using Non Fine Tuned model"
      ],
      "metadata": {
        "id": "RsnwZK13waKx"
      }
    },
    {
      "cell_type": "code",
      "source": [
        "Transformer_translation(input_file = input_file,\n",
        "                        model = nonfinetuned_model,\n",
        "                        model_name = model_name,\n",
        "                        tokenizer = nonfinetuned_tokenizer,\n",
        "                        save_path = save_path\n",
        "                        )"
      ],
      "metadata": {
        "id": "TtBbKAKW_ITg"
      },
      "execution_count": null,
      "outputs": []
    },
    {
      "cell_type": "markdown",
      "source": [
        "**Tokenize dataset**"
      ],
      "metadata": {
        "id": "c15h5zPowgnf"
      }
    },
    {
      "cell_type": "code",
      "source": [
        "# Tokenizing the dataset\n",
        "tokenized_dataset = old2modern_dataset.map(preprocess,fn_kwargs={\"tokenizer\": nonfinetuned_tokenizer})"
      ],
      "metadata": {
        "id": "UHTazApkAtoc"
      },
      "execution_count": null,
      "outputs": []
    },
    {
      "cell_type": "markdown",
      "source": [
        "## Fine-Tuning of the Transformer"
      ],
      "metadata": {
        "id": "gwpTT9N_wi2q"
      }
    },
    {
      "cell_type": "code",
      "source": [
        "# Training arguments\n",
        "train_args = TrainingArguments(\n",
        "    output_dir = './finetune-result',   # where to save the model checkpoints and logs\n",
        "    per_device_train_batch_size=5,  # batch_size per GPU\n",
        "    num_train_epochs=3,             # number of full passes on the entire dataset\n",
        "    logging_steps=10,               # print logs every 10 steps (1 step is 1 batch passing in training)\n",
        "    save_steps=500,                   # save model weights every 10 steps (if you define batch_size such that steps < save_steps -> Save no checkpoint, only at the end)\n",
        "    eval_strategy=\"no\",             # if a validation set is available\n",
        "    save_total_limit=1,             # limit number of checkpoint to save in output_dir (the oldest one will be deleted)\n",
        "    fp16=True                       # use mixed precision training\n",
        ")\n",
        "\n",
        "# Initialize the trainer object\n",
        "trainer = Trainer(\n",
        "    model=nonfinetuned_model,\n",
        "    args=train_args,\n",
        "    train_dataset=tokenized_dataset\n",
        ")\n",
        "\n",
        "# To save also the tokenizer\n",
        "nonfinetuned_tokenizer.save_pretrained(train_args.output_dir)"
      ],
      "metadata": {
        "id": "DlvlkPBQK06o"
      },
      "execution_count": null,
      "outputs": []
    },
    {
      "cell_type": "code",
      "source": [
        "# Training Loop\n",
        "trainer.train()"
      ],
      "metadata": {
        "id": "py1AhFLvPkRX"
      },
      "execution_count": null,
      "outputs": []
    },
    {
      "cell_type": "markdown",
      "source": [
        "## Translations with fine tuning"
      ],
      "metadata": {
        "id": "pyqsRgSO1LIY"
      }
    },
    {
      "cell_type": "markdown",
      "source": [
        "**Load the model and the tokenizer**"
      ],
      "metadata": {
        "id": "O4QuEbMW4rcR"
      }
    },
    {
      "cell_type": "code",
      "source": [
        "# Load tokenizer from base model\n",
        "model_name=\"nllb-200-distilled-600M-finetuned\"\n",
        "finetuned_tokenizer = AutoTokenizer.from_pretrained('/content/finetune-result')\n",
        "finetuned_model = AutoModelForSeq2SeqLM.from_pretrained('/content/finetune-result/checkpoint-120')"
      ],
      "metadata": {
        "id": "W0RoAx5D22zk"
      },
      "execution_count": null,
      "outputs": []
    },
    {
      "cell_type": "code",
      "source": [
        "Transformer_translation(input_file = input_file,\n",
        "                        model = finetuned_model,\n",
        "                        model_name = model_name,\n",
        "                        tokenizer = finetuned_tokenizer,\n",
        "                        save_path = save_path\n",
        "                        )"
      ],
      "metadata": {
        "id": "uWlNKa-B4Kv0"
      },
      "execution_count": null,
      "outputs": []
    },
    {
      "cell_type": "markdown",
      "source": [
        "# LLM as a Judge"
      ],
      "metadata": {
        "id": "JRARLoprrniL"
      }
    },
    {
      "cell_type": "markdown",
      "source": [
        "## Initializations"
      ],
      "metadata": {
        "id": "dxVtpj6q0t0e"
      }
    },
    {
      "cell_type": "code",
      "source": [
        "prometheus_model = AutoModelForCausalLM.from_pretrained(\"prometheus-eval/prometheus-7b-v2.0\")\n",
        "prometheus_tokenizer = AutoTokenizer.from_pretrained(\"prometheus-eval/prometheus-7b-v2.0\")"
      ],
      "metadata": {
        "id": "uTAp3diVPuOJ"
      },
      "execution_count": null,
      "outputs": []
    },
    {
      "cell_type": "code",
      "source": [
        "# Load the configuration file \"config.yaml\" on the repo\n",
        "config = load_config(\"archaicIT2modernIT/config.yaml\")\n",
        "\n",
        "# Load of all the parameters\n",
        "rel_system_prompt = config[\"prometheus_judge\"][\"relative\"]['system_prompt']\n",
        "rel_user_prompt = config[\"prometheus_judge\"][\"relative\"]['user_prompt']\n",
        "\n",
        "abs_system_prompt = config[\"prometheus_judge\"][\"absolute\"]['system_prompt']\n",
        "abs_user_prompt = config[\"prometheus_judge\"][\"absolute\"]['user_prompt']\n",
        "\n",
        "gold_path = '/content/archaicIT2modernIT/data/dataset_gold.csv'\n",
        "\n",
        "print(f\"Relative system prompt: {rel_system_prompt}\\n\")\n",
        "print(f\"Relative user prompt: {rel_user_prompt}\\n\")\n",
        "\n",
        "print(f\"Absolute system prompt: {abs_system_prompt}\\n\")\n",
        "print(f\"Absolute user prompt: {abs_user_prompt}\\n\")"
      ],
      "metadata": {
        "id": "GwsobSTFubAo"
      },
      "execution_count": null,
      "outputs": []
    },
    {
      "cell_type": "markdown",
      "source": [
        "## Tournament selection\n",
        "\n",
        "In the tournament we want to find the best gemma and deepseek lama model using prometheus. We will do this by asking to prometheus which translation is better between translation A or translation B."
      ],
      "metadata": {
        "id": "0jPJAsS_fbqr"
      }
    },
    {
      "cell_type": "code",
      "source": [
        "gemma_files = ['/content/archaicIT2modernIT/translations/zeroShot_temp0_it/CaponataLovers-hw2_transl-gemma2-9b-it_zero-shot_it_temp-0.0.jsonl',\n",
        "               '/content/archaicIT2modernIT/translations/fewShot1_temp0_it/CaponataLovers-hw2_transl-gemma2-9b-it_few-shot_k-1_it_temp-0.0.jsonl',\n",
        "               '/content/archaicIT2modernIT/translations/fewShot2_temp0_it/CaponataLovers-hw2_transl-gemma2-9b-it_few-shot_k-2_it_temp-0.0.jsonl',\n",
        "               '/content/archaicIT2modernIT/translations/fewShot3_temp0_it/CaponataLovers-hw2_transl-gemma2-9b-it_few-shot_k-3_it_temp-0.0.jsonl']\n",
        "\n",
        "deepseek_files = ['/content/archaicIT2modernIT/translations/zeroShot_temp0_it/CaponataLovers-hw2_transl-deepseek-r1-distill-llama-70b_zero-shot_it_temp-0.0.jsonl',\n",
        "               '/content/archaicIT2modernIT/translations/fewShot1_temp0_it/CaponataLovers-hw2_transl-deepseek-r1-distill-llama-70b_few-shot_k-1_it_temp-0.0.jsonl',\n",
        "               '/content/archaicIT2modernIT/translations/fewShot2_temp0_it/CaponataLovers-hw2_transl-deepseek-r1-distill-llama-70b_few-shot_k-2_it_temp-0.0.jsonl',\n",
        "               '/content/archaicIT2modernIT/translations/fewShot3_temp0_it/CaponataLovers-hw2_transl-deepseek-r1-distill-llama-70b_few-shot_k-3_it_temp-0.0.jsonl']\n",
        "\n",
        "prompt_judge_tournament = (rel_system_prompt, rel_user_prompt)\n",
        "\n",
        "prompt_builder = PromptBuilder(prompt_template = prompt_judge_tournament,\n",
        "                               mode = \"zero-shot\",\n",
        "                               lang = 'en'\n",
        "                              )\n",
        "# Gemma Tournament\n",
        "tournament(files = gemma_files,\n",
        "           judge_model=prometheus_model,\n",
        "           judge_tokenizer=prometheus_tokenizer,\n",
        "           prompt_builder=prompt_builder,\n",
        "           gold_path = gold_path\n",
        "           )\n",
        "\n",
        "# Deepseek Tournament\n",
        "tournament(files = deepseek_files,\n",
        "           judge_model=prometheus_model,\n",
        "           judge_tokenizer=prometheus_tokenizer,\n",
        "           prompt_builder=prompt_builder,\n",
        "           gold_path = gold_path\n",
        "           )"
      ],
      "metadata": {
        "id": "kR1xAfawuSzZ"
      },
      "execution_count": null,
      "outputs": []
    },
    {
      "cell_type": "markdown",
      "source": [
        "## Absolute evaluation\n",
        "\n",
        "After the tournament we will perform the absolute evaluation with rubric score on 5 different metrics for each model: the deepseek winner, the gemma winner and the transformer FT and non-FT"
      ],
      "metadata": {
        "id": "SvLSoQ7Tz0ik"
      }
    },
    {
      "cell_type": "code",
      "source": [
        "prompt_judge_abs = (abs_system_prompt, abs_user_prompt)\n",
        "\n",
        "prompt_builder_abs = PromptBuilder(prompt_template = prompt_judge_abs,\n",
        "                                  mode = \"zero-shot\",\n",
        "                                  lang = 'en'\n",
        "                                  )\n",
        "rubrics =  {'meaning_preservation': config[\"prometheus_judge\"][\"absolute\"][\"rubrics\"]['meaning_preservation'],\n",
        "            'grammar': config[\"prometheus_judge\"][\"absolute\"][\"rubrics\"]['grammar'],\n",
        "            'modern_structural_effectiveness': config[\"prometheus_judge\"][\"absolute\"][\"rubrics\"]['modern_structural_effectiveness'],\n",
        "            'completeness': config[\"prometheus_judge\"][\"absolute\"][\"rubrics\"]['completeness'],\n",
        "            'lexical_modernization': config[\"prometheus_judge\"][\"absolute\"][\"rubrics\"]['lexical_modernization']}\n",
        "\n",
        "to_eval_list = [\n",
        "    '/content/archaicIT2modernIT/translations/fewShot1_temp0_it/CaponataLovers-hw2_transl-deepseek-r1-distill-llama-70b_few-shot_k-1_it_temp-0.0.jsonl',\n",
        "    '/content/archaicIT2modernIT/translations/fewShot3_temp0_it/CaponataLovers-hw2_transl-gemma2-9b-it_few-shot_k-3_it_temp-0.0.jsonl',\n",
        "    '/content/archaicIT2modernIT/translations/transformers/CaponataLovers-hw2_transl-nllb-200-distilled-600M.jsonl',\n",
        "    '/content/archaicIT2modernIT/translations/transformers/CaponataLovers-hw2_transl-nllb-200-distilled-600M-finetuned.jsonl'\n",
        "]\n",
        "\n",
        "output_file_path_list = [\n",
        "    '/content/archaicIT2modernIT/evaluations/deepseek_evaluation.jsonl',\n",
        "    '/content/archaicIT2modernIT/evaluations/gemma_evaluation.jsonl',\n",
        "    '/content/archaicIT2modernIT/evaluations/transformer_non_ft_evaluation.jsonl',\n",
        "    '/content/archaicIT2modernIT/evaluations/transformer_ft_evaluation.jsonl'\n",
        "]\n",
        "for model_path, output_file_path in zip(to_eval_list, output_file_path_list):\n",
        "  print(f\"Model: {model_path}\")\n",
        "  #this funciton will evaluate all the models saved in the file winners.txt,\n",
        "  make_evaluation(\n",
        "      to_eval= model_path,\n",
        "      output_file_path = output_file_path,\n",
        "      judge_model = prometheus_model,\n",
        "      judge_tokenizer = prometheus_tokenizer,\n",
        "      prompt_builder = prompt_builder_abs,\n",
        "      rubrics = rubrics,\n",
        "      gold_path = gold_path\n",
        "      )"
      ],
      "metadata": {
        "id": "7JyKc7lr78va"
      },
      "execution_count": null,
      "outputs": []
    },
    {
      "cell_type": "markdown",
      "source": [
        "**Cohen's Kappa Coefficient**\n",
        "\n",
        "Useful to see the correlation between our votes and the prometheus votes"
      ],
      "metadata": {
        "id": "vIb5-l1RH-VU"
      }
    },
    {
      "cell_type": "code",
      "source": [
        "path_list = [\n",
        "    '/content/archaicIT2modernIT/human_correlation/deepseek_eval_correlation.jsonl',\n",
        "    '/content/archaicIT2modernIT/human_correlation/gemma_eval_correlation.jsonl',\n",
        "    '/content/archaicIT2modernIT/human_correlation/transformer_ft_eval_correlation.jsonl',\n",
        "    '/content/archaicIT2modernIT/human_correlation/transformer_non_ft_eval_correlation.jsonl'\n",
        "]\n",
        "\n",
        "cohen_kappa_dict = {}\n",
        "eval_dict = {}\n",
        "\n",
        "PrepareData4CohenKappa(path_list = path_list, eval_dict = eval_dict)\n",
        "CohenKappaComputation(eval_dict = eval_dict, cohen_kappa_dict = cohen_kappa_dict)"
      ],
      "metadata": {
        "id": "ZlnFyGHcJ92i"
      },
      "execution_count": null,
      "outputs": []
    }
  ],
  "metadata": {
    "colab": {
      "provenance": [],
      "gpuType": "T4",
      "collapsed_sections": [
        "JU-vxcdtGjx7",
        "fQWNV32Q84u5",
        "JRARLoprrniL"
      ]
    },
    "kernelspec": {
      "display_name": "Python 3",
      "name": "python3"
    },
    "language_info": {
      "name": "python"
    },
    "accelerator": "GPU"
  },
  "nbformat": 4,
  "nbformat_minor": 0
}